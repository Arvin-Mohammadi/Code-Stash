{
 "cells": [
  {
   "cell_type": "markdown",
   "metadata": {
    "id": "EW3lq2tWjhvW"
   },
   "source": [
    "# RNN \n",
    "the dataset used for this notebook is from the max planck institute for Biogeochemistry. It is called The Jena Climate dataset."
   ]
  },
  {
   "cell_type": "markdown",
   "metadata": {
    "id": "uiVZqf78kaTi"
   },
   "source": [
    "## Imports"
   ]
  },
  {
   "cell_type": "markdown",
   "metadata": {
    "id": "c3sg5sh-vWer"
   },
   "source": [
    "***mount drive***"
   ]
  },
  {
   "cell_type": "code",
   "execution_count": null,
   "metadata": {
    "colab": {
     "base_uri": "https://localhost:8080/"
    },
    "executionInfo": {
     "elapsed": 21377,
     "status": "ok",
     "timestamp": 1677402214890,
     "user": {
      "displayName": "arvin mohammadi",
      "userId": "14054999000878298543"
     },
     "user_tz": -210
    },
    "id": "iXOMMYuXvYWH",
    "outputId": "3c35e317-b86c-495f-d036-b06847ad3a35"
   },
   "outputs": [
    {
     "name": "stdout",
     "output_type": "stream",
     "text": [
      "Mounted at /content/drive\n"
     ]
    }
   ],
   "source": [
    "from google.colab import drive \n",
    "drive.mount(\"/content/drive\")"
   ]
  },
  {
   "cell_type": "markdown",
   "metadata": {
    "id": "w5pZ-wqJkb7d"
   },
   "source": [
    "***general imports***"
   ]
  },
  {
   "cell_type": "code",
   "execution_count": null,
   "metadata": {
    "id": "xwerXvHVjg4S"
   },
   "outputs": [],
   "source": [
    "import pandas as pd\n",
    "import numpy as np \n",
    "import random \n",
    "import matplotlib.pyplot as plt \n",
    "from zipfile import ZipFile\n",
    "import os"
   ]
  },
  {
   "cell_type": "markdown",
   "metadata": {
    "id": "14WXBJupkfMo"
   },
   "source": [
    "***sklearn imports***"
   ]
  },
  {
   "cell_type": "code",
   "execution_count": null,
   "metadata": {
    "id": "OMD7hTp1kmYS"
   },
   "outputs": [],
   "source": [
    "from sklearn.preprocessing import MinMaxScaler\n",
    "from sklearn.model_selection import train_test_split\n",
    "from sklearn.metrics import r2_score"
   ]
  },
  {
   "cell_type": "markdown",
   "metadata": {
    "id": "vdm77V3sknbp"
   },
   "source": [
    "***keras & tensorflow imports***"
   ]
  },
  {
   "cell_type": "code",
   "execution_count": null,
   "metadata": {
    "id": "5j6oqtlhkqa7"
   },
   "outputs": [],
   "source": [
    "import keras\n",
    "import tensorflow as tf\n",
    "from tensorflow.keras.models import Sequential \n",
    "from tensorflow.keras.layers import Dense, SimpleRNN"
   ]
  },
  {
   "cell_type": "markdown",
   "metadata": {
    "id": "-GQGhJYcvggr"
   },
   "source": [
    "***unzip file***"
   ]
  },
  {
   "cell_type": "code",
   "execution_count": null,
   "metadata": {
    "id": "MncBhIbBum5Z"
   },
   "outputs": [],
   "source": [
    "with ZipFile(\"/content/drive/MyDrive/Youtube/6 - RNN-simple/jena_climate_2009_2016.zip\") as zipObj:\n",
    "  zipObj.extractall(\"/content/drive/MyDrive/Youtube/6 - RNN-simple/dataset\")"
   ]
  },
  {
   "cell_type": "markdown",
   "metadata": {
    "id": "yB4DewWvv-i_"
   },
   "source": [
    "## Load Data"
   ]
  },
  {
   "cell_type": "markdown",
   "metadata": {
    "id": "aGQbwPTHwAGn"
   },
   "source": [
    "***load .csv file***"
   ]
  },
  {
   "cell_type": "code",
   "execution_count": null,
   "metadata": {
    "colab": {
     "base_uri": "https://localhost:8080/",
     "height": 372
    },
    "executionInfo": {
     "elapsed": 1075,
     "status": "ok",
     "timestamp": 1677402221030,
     "user": {
      "displayName": "arvin mohammadi",
      "userId": "14054999000878298543"
     },
     "user_tz": -210
    },
    "id": "9-NvpxmHv9d0",
    "outputId": "438ef9ef-c289-4153-f2aa-3b503089dfac"
   },
   "outputs": [
    {
     "data": {
      "text/html": [
       "\n",
       "  <div id=\"df-e0428d00-e3b7-4ad4-9904-0665887c1fbb\">\n",
       "    <div class=\"colab-df-container\">\n",
       "      <div>\n",
       "<style scoped>\n",
       "    .dataframe tbody tr th:only-of-type {\n",
       "        vertical-align: middle;\n",
       "    }\n",
       "\n",
       "    .dataframe tbody tr th {\n",
       "        vertical-align: top;\n",
       "    }\n",
       "\n",
       "    .dataframe thead th {\n",
       "        text-align: right;\n",
       "    }\n",
       "</style>\n",
       "<table border=\"1\" class=\"dataframe\">\n",
       "  <thead>\n",
       "    <tr style=\"text-align: right;\">\n",
       "      <th></th>\n",
       "      <th>Date Time</th>\n",
       "      <th>p (mbar)</th>\n",
       "      <th>T (degC)</th>\n",
       "      <th>Tpot (K)</th>\n",
       "      <th>Tdew (degC)</th>\n",
       "      <th>rh (%)</th>\n",
       "      <th>VPmax (mbar)</th>\n",
       "      <th>VPact (mbar)</th>\n",
       "      <th>VPdef (mbar)</th>\n",
       "      <th>sh (g/kg)</th>\n",
       "      <th>H2OC (mmol/mol)</th>\n",
       "      <th>rho (g/m**3)</th>\n",
       "      <th>wv (m/s)</th>\n",
       "      <th>max. wv (m/s)</th>\n",
       "      <th>wd (deg)</th>\n",
       "    </tr>\n",
       "  </thead>\n",
       "  <tbody>\n",
       "    <tr>\n",
       "      <th>0</th>\n",
       "      <td>01.01.2009 00:10:00</td>\n",
       "      <td>996.52</td>\n",
       "      <td>-8.02</td>\n",
       "      <td>265.40</td>\n",
       "      <td>-8.90</td>\n",
       "      <td>93.3</td>\n",
       "      <td>3.33</td>\n",
       "      <td>3.11</td>\n",
       "      <td>0.22</td>\n",
       "      <td>1.94</td>\n",
       "      <td>3.12</td>\n",
       "      <td>1307.75</td>\n",
       "      <td>1.03</td>\n",
       "      <td>1.75</td>\n",
       "      <td>152.3</td>\n",
       "    </tr>\n",
       "    <tr>\n",
       "      <th>1</th>\n",
       "      <td>01.01.2009 00:20:00</td>\n",
       "      <td>996.57</td>\n",
       "      <td>-8.41</td>\n",
       "      <td>265.01</td>\n",
       "      <td>-9.28</td>\n",
       "      <td>93.4</td>\n",
       "      <td>3.23</td>\n",
       "      <td>3.02</td>\n",
       "      <td>0.21</td>\n",
       "      <td>1.89</td>\n",
       "      <td>3.03</td>\n",
       "      <td>1309.80</td>\n",
       "      <td>0.72</td>\n",
       "      <td>1.50</td>\n",
       "      <td>136.1</td>\n",
       "    </tr>\n",
       "    <tr>\n",
       "      <th>2</th>\n",
       "      <td>01.01.2009 00:30:00</td>\n",
       "      <td>996.53</td>\n",
       "      <td>-8.51</td>\n",
       "      <td>264.91</td>\n",
       "      <td>-9.31</td>\n",
       "      <td>93.9</td>\n",
       "      <td>3.21</td>\n",
       "      <td>3.01</td>\n",
       "      <td>0.20</td>\n",
       "      <td>1.88</td>\n",
       "      <td>3.02</td>\n",
       "      <td>1310.24</td>\n",
       "      <td>0.19</td>\n",
       "      <td>0.63</td>\n",
       "      <td>171.6</td>\n",
       "    </tr>\n",
       "    <tr>\n",
       "      <th>3</th>\n",
       "      <td>01.01.2009 00:40:00</td>\n",
       "      <td>996.51</td>\n",
       "      <td>-8.31</td>\n",
       "      <td>265.12</td>\n",
       "      <td>-9.07</td>\n",
       "      <td>94.2</td>\n",
       "      <td>3.26</td>\n",
       "      <td>3.07</td>\n",
       "      <td>0.19</td>\n",
       "      <td>1.92</td>\n",
       "      <td>3.08</td>\n",
       "      <td>1309.19</td>\n",
       "      <td>0.34</td>\n",
       "      <td>0.50</td>\n",
       "      <td>198.0</td>\n",
       "    </tr>\n",
       "    <tr>\n",
       "      <th>4</th>\n",
       "      <td>01.01.2009 00:50:00</td>\n",
       "      <td>996.51</td>\n",
       "      <td>-8.27</td>\n",
       "      <td>265.15</td>\n",
       "      <td>-9.04</td>\n",
       "      <td>94.1</td>\n",
       "      <td>3.27</td>\n",
       "      <td>3.08</td>\n",
       "      <td>0.19</td>\n",
       "      <td>1.92</td>\n",
       "      <td>3.09</td>\n",
       "      <td>1309.00</td>\n",
       "      <td>0.32</td>\n",
       "      <td>0.63</td>\n",
       "      <td>214.3</td>\n",
       "    </tr>\n",
       "  </tbody>\n",
       "</table>\n",
       "</div>\n",
       "      <button class=\"colab-df-convert\" onclick=\"convertToInteractive('df-e0428d00-e3b7-4ad4-9904-0665887c1fbb')\"\n",
       "              title=\"Convert this dataframe to an interactive table.\"\n",
       "              style=\"display:none;\">\n",
       "        \n",
       "  <svg xmlns=\"http://www.w3.org/2000/svg\" height=\"24px\"viewBox=\"0 0 24 24\"\n",
       "       width=\"24px\">\n",
       "    <path d=\"M0 0h24v24H0V0z\" fill=\"none\"/>\n",
       "    <path d=\"M18.56 5.44l.94 2.06.94-2.06 2.06-.94-2.06-.94-.94-2.06-.94 2.06-2.06.94zm-11 1L8.5 8.5l.94-2.06 2.06-.94-2.06-.94L8.5 2.5l-.94 2.06-2.06.94zm10 10l.94 2.06.94-2.06 2.06-.94-2.06-.94-.94-2.06-.94 2.06-2.06.94z\"/><path d=\"M17.41 7.96l-1.37-1.37c-.4-.4-.92-.59-1.43-.59-.52 0-1.04.2-1.43.59L10.3 9.45l-7.72 7.72c-.78.78-.78 2.05 0 2.83L4 21.41c.39.39.9.59 1.41.59.51 0 1.02-.2 1.41-.59l7.78-7.78 2.81-2.81c.8-.78.8-2.07 0-2.86zM5.41 20L4 18.59l7.72-7.72 1.47 1.35L5.41 20z\"/>\n",
       "  </svg>\n",
       "      </button>\n",
       "      \n",
       "  <style>\n",
       "    .colab-df-container {\n",
       "      display:flex;\n",
       "      flex-wrap:wrap;\n",
       "      gap: 12px;\n",
       "    }\n",
       "\n",
       "    .colab-df-convert {\n",
       "      background-color: #E8F0FE;\n",
       "      border: none;\n",
       "      border-radius: 50%;\n",
       "      cursor: pointer;\n",
       "      display: none;\n",
       "      fill: #1967D2;\n",
       "      height: 32px;\n",
       "      padding: 0 0 0 0;\n",
       "      width: 32px;\n",
       "    }\n",
       "\n",
       "    .colab-df-convert:hover {\n",
       "      background-color: #E2EBFA;\n",
       "      box-shadow: 0px 1px 2px rgba(60, 64, 67, 0.3), 0px 1px 3px 1px rgba(60, 64, 67, 0.15);\n",
       "      fill: #174EA6;\n",
       "    }\n",
       "\n",
       "    [theme=dark] .colab-df-convert {\n",
       "      background-color: #3B4455;\n",
       "      fill: #D2E3FC;\n",
       "    }\n",
       "\n",
       "    [theme=dark] .colab-df-convert:hover {\n",
       "      background-color: #434B5C;\n",
       "      box-shadow: 0px 1px 3px 1px rgba(0, 0, 0, 0.15);\n",
       "      filter: drop-shadow(0px 1px 2px rgba(0, 0, 0, 0.3));\n",
       "      fill: #FFFFFF;\n",
       "    }\n",
       "  </style>\n",
       "\n",
       "      <script>\n",
       "        const buttonEl =\n",
       "          document.querySelector('#df-e0428d00-e3b7-4ad4-9904-0665887c1fbb button.colab-df-convert');\n",
       "        buttonEl.style.display =\n",
       "          google.colab.kernel.accessAllowed ? 'block' : 'none';\n",
       "\n",
       "        async function convertToInteractive(key) {\n",
       "          const element = document.querySelector('#df-e0428d00-e3b7-4ad4-9904-0665887c1fbb');\n",
       "          const dataTable =\n",
       "            await google.colab.kernel.invokeFunction('convertToInteractive',\n",
       "                                                     [key], {});\n",
       "          if (!dataTable) return;\n",
       "\n",
       "          const docLinkHtml = 'Like what you see? Visit the ' +\n",
       "            '<a target=\"_blank\" href=https://colab.research.google.com/notebooks/data_table.ipynb>data table notebook</a>'\n",
       "            + ' to learn more about interactive tables.';\n",
       "          element.innerHTML = '';\n",
       "          dataTable['output_type'] = 'display_data';\n",
       "          await google.colab.output.renderOutput(dataTable, element);\n",
       "          const docLink = document.createElement('div');\n",
       "          docLink.innerHTML = docLinkHtml;\n",
       "          element.appendChild(docLink);\n",
       "        }\n",
       "      </script>\n",
       "    </div>\n",
       "  </div>\n",
       "  "
      ],
      "text/plain": [
       "             Date Time  p (mbar)  T (degC)  Tpot (K)  Tdew (degC)  rh (%)  \\\n",
       "0  01.01.2009 00:10:00    996.52     -8.02    265.40        -8.90    93.3   \n",
       "1  01.01.2009 00:20:00    996.57     -8.41    265.01        -9.28    93.4   \n",
       "2  01.01.2009 00:30:00    996.53     -8.51    264.91        -9.31    93.9   \n",
       "3  01.01.2009 00:40:00    996.51     -8.31    265.12        -9.07    94.2   \n",
       "4  01.01.2009 00:50:00    996.51     -8.27    265.15        -9.04    94.1   \n",
       "\n",
       "   VPmax (mbar)  VPact (mbar)  VPdef (mbar)  sh (g/kg)  H2OC (mmol/mol)  \\\n",
       "0          3.33          3.11          0.22       1.94             3.12   \n",
       "1          3.23          3.02          0.21       1.89             3.03   \n",
       "2          3.21          3.01          0.20       1.88             3.02   \n",
       "3          3.26          3.07          0.19       1.92             3.08   \n",
       "4          3.27          3.08          0.19       1.92             3.09   \n",
       "\n",
       "   rho (g/m**3)  wv (m/s)  max. wv (m/s)  wd (deg)  \n",
       "0       1307.75      1.03           1.75     152.3  \n",
       "1       1309.80      0.72           1.50     136.1  \n",
       "2       1310.24      0.19           0.63     171.6  \n",
       "3       1309.19      0.34           0.50     198.0  \n",
       "4       1309.00      0.32           0.63     214.3  "
      ]
     },
     "execution_count": 6,
     "metadata": {},
     "output_type": "execute_result"
    }
   ],
   "source": [
    "dataset_path = \"/content/drive/MyDrive/Youtube/6 - RNN-simple/dataset/jena_climate_2009_2016.csv\"\n",
    "\n",
    "dataframe = pd.read_csv(dataset_path)\n",
    "\n",
    "dataframe.head()"
   ]
  },
  {
   "cell_type": "markdown",
   "metadata": {
    "id": "h61Klc3lwTye"
   },
   "source": [
    "***delete all columns except temperature (because we want a uni-variate model)***"
   ]
  },
  {
   "cell_type": "code",
   "execution_count": null,
   "metadata": {
    "colab": {
     "base_uri": "https://localhost:8080/",
     "height": 206
    },
    "executionInfo": {
     "elapsed": 19,
     "status": "ok",
     "timestamp": 1677402221031,
     "user": {
      "displayName": "arvin mohammadi",
      "userId": "14054999000878298543"
     },
     "user_tz": -210
    },
    "id": "olQTnKIwv2RS",
    "outputId": "8b3535b2-07f6-4503-aa6f-80124991da37"
   },
   "outputs": [
    {
     "data": {
      "text/html": [
       "\n",
       "  <div id=\"df-3c24050c-1bf2-46f7-9851-5c37bc35bb7d\">\n",
       "    <div class=\"colab-df-container\">\n",
       "      <div>\n",
       "<style scoped>\n",
       "    .dataframe tbody tr th:only-of-type {\n",
       "        vertical-align: middle;\n",
       "    }\n",
       "\n",
       "    .dataframe tbody tr th {\n",
       "        vertical-align: top;\n",
       "    }\n",
       "\n",
       "    .dataframe thead th {\n",
       "        text-align: right;\n",
       "    }\n",
       "</style>\n",
       "<table border=\"1\" class=\"dataframe\">\n",
       "  <thead>\n",
       "    <tr style=\"text-align: right;\">\n",
       "      <th></th>\n",
       "      <th>T (degC)</th>\n",
       "    </tr>\n",
       "  </thead>\n",
       "  <tbody>\n",
       "    <tr>\n",
       "      <th>0</th>\n",
       "      <td>-8.02</td>\n",
       "    </tr>\n",
       "    <tr>\n",
       "      <th>1</th>\n",
       "      <td>-8.41</td>\n",
       "    </tr>\n",
       "    <tr>\n",
       "      <th>2</th>\n",
       "      <td>-8.51</td>\n",
       "    </tr>\n",
       "    <tr>\n",
       "      <th>3</th>\n",
       "      <td>-8.31</td>\n",
       "    </tr>\n",
       "    <tr>\n",
       "      <th>4</th>\n",
       "      <td>-8.27</td>\n",
       "    </tr>\n",
       "  </tbody>\n",
       "</table>\n",
       "</div>\n",
       "      <button class=\"colab-df-convert\" onclick=\"convertToInteractive('df-3c24050c-1bf2-46f7-9851-5c37bc35bb7d')\"\n",
       "              title=\"Convert this dataframe to an interactive table.\"\n",
       "              style=\"display:none;\">\n",
       "        \n",
       "  <svg xmlns=\"http://www.w3.org/2000/svg\" height=\"24px\"viewBox=\"0 0 24 24\"\n",
       "       width=\"24px\">\n",
       "    <path d=\"M0 0h24v24H0V0z\" fill=\"none\"/>\n",
       "    <path d=\"M18.56 5.44l.94 2.06.94-2.06 2.06-.94-2.06-.94-.94-2.06-.94 2.06-2.06.94zm-11 1L8.5 8.5l.94-2.06 2.06-.94-2.06-.94L8.5 2.5l-.94 2.06-2.06.94zm10 10l.94 2.06.94-2.06 2.06-.94-2.06-.94-.94-2.06-.94 2.06-2.06.94z\"/><path d=\"M17.41 7.96l-1.37-1.37c-.4-.4-.92-.59-1.43-.59-.52 0-1.04.2-1.43.59L10.3 9.45l-7.72 7.72c-.78.78-.78 2.05 0 2.83L4 21.41c.39.39.9.59 1.41.59.51 0 1.02-.2 1.41-.59l7.78-7.78 2.81-2.81c.8-.78.8-2.07 0-2.86zM5.41 20L4 18.59l7.72-7.72 1.47 1.35L5.41 20z\"/>\n",
       "  </svg>\n",
       "      </button>\n",
       "      \n",
       "  <style>\n",
       "    .colab-df-container {\n",
       "      display:flex;\n",
       "      flex-wrap:wrap;\n",
       "      gap: 12px;\n",
       "    }\n",
       "\n",
       "    .colab-df-convert {\n",
       "      background-color: #E8F0FE;\n",
       "      border: none;\n",
       "      border-radius: 50%;\n",
       "      cursor: pointer;\n",
       "      display: none;\n",
       "      fill: #1967D2;\n",
       "      height: 32px;\n",
       "      padding: 0 0 0 0;\n",
       "      width: 32px;\n",
       "    }\n",
       "\n",
       "    .colab-df-convert:hover {\n",
       "      background-color: #E2EBFA;\n",
       "      box-shadow: 0px 1px 2px rgba(60, 64, 67, 0.3), 0px 1px 3px 1px rgba(60, 64, 67, 0.15);\n",
       "      fill: #174EA6;\n",
       "    }\n",
       "\n",
       "    [theme=dark] .colab-df-convert {\n",
       "      background-color: #3B4455;\n",
       "      fill: #D2E3FC;\n",
       "    }\n",
       "\n",
       "    [theme=dark] .colab-df-convert:hover {\n",
       "      background-color: #434B5C;\n",
       "      box-shadow: 0px 1px 3px 1px rgba(0, 0, 0, 0.15);\n",
       "      filter: drop-shadow(0px 1px 2px rgba(0, 0, 0, 0.3));\n",
       "      fill: #FFFFFF;\n",
       "    }\n",
       "  </style>\n",
       "\n",
       "      <script>\n",
       "        const buttonEl =\n",
       "          document.querySelector('#df-3c24050c-1bf2-46f7-9851-5c37bc35bb7d button.colab-df-convert');\n",
       "        buttonEl.style.display =\n",
       "          google.colab.kernel.accessAllowed ? 'block' : 'none';\n",
       "\n",
       "        async function convertToInteractive(key) {\n",
       "          const element = document.querySelector('#df-3c24050c-1bf2-46f7-9851-5c37bc35bb7d');\n",
       "          const dataTable =\n",
       "            await google.colab.kernel.invokeFunction('convertToInteractive',\n",
       "                                                     [key], {});\n",
       "          if (!dataTable) return;\n",
       "\n",
       "          const docLinkHtml = 'Like what you see? Visit the ' +\n",
       "            '<a target=\"_blank\" href=https://colab.research.google.com/notebooks/data_table.ipynb>data table notebook</a>'\n",
       "            + ' to learn more about interactive tables.';\n",
       "          element.innerHTML = '';\n",
       "          dataTable['output_type'] = 'display_data';\n",
       "          await google.colab.output.renderOutput(dataTable, element);\n",
       "          const docLink = document.createElement('div');\n",
       "          docLink.innerHTML = docLinkHtml;\n",
       "          element.appendChild(docLink);\n",
       "        }\n",
       "      </script>\n",
       "    </div>\n",
       "  </div>\n",
       "  "
      ],
      "text/plain": [
       "   T (degC)\n",
       "0     -8.02\n",
       "1     -8.41\n",
       "2     -8.51\n",
       "3     -8.31\n",
       "4     -8.27"
      ]
     },
     "execution_count": 7,
     "metadata": {},
     "output_type": "execute_result"
    }
   ],
   "source": [
    "dataframe = dataframe[[\"T (degC)\"]]\n",
    "\n",
    "dataframe.head()"
   ]
  },
  {
   "cell_type": "markdown",
   "metadata": {
    "id": "kmKx-gk3wvcH"
   },
   "source": [
    "## Pre-Process Data"
   ]
  },
  {
   "cell_type": "markdown",
   "metadata": {
    "id": "m7-cmIh8w71j"
   },
   "source": [
    "***scale data (min-max)***"
   ]
  },
  {
   "cell_type": "code",
   "execution_count": null,
   "metadata": {
    "colab": {
     "base_uri": "https://localhost:8080/",
     "height": 206
    },
    "executionInfo": {
     "elapsed": 14,
     "status": "ok",
     "timestamp": 1677402221031,
     "user": {
      "displayName": "arvin mohammadi",
      "userId": "14054999000878298543"
     },
     "user_tz": -210
    },
    "id": "O7POSvJqwlbd",
    "outputId": "d1bb8027-2be4-41aa-aab4-87c9d72a4a81"
   },
   "outputs": [
    {
     "data": {
      "text/html": [
       "\n",
       "  <div id=\"df-64ad5f9b-1245-48af-8014-8a529b0fdcc4\">\n",
       "    <div class=\"colab-df-container\">\n",
       "      <div>\n",
       "<style scoped>\n",
       "    .dataframe tbody tr th:only-of-type {\n",
       "        vertical-align: middle;\n",
       "    }\n",
       "\n",
       "    .dataframe tbody tr th {\n",
       "        vertical-align: top;\n",
       "    }\n",
       "\n",
       "    .dataframe thead th {\n",
       "        text-align: right;\n",
       "    }\n",
       "</style>\n",
       "<table border=\"1\" class=\"dataframe\">\n",
       "  <thead>\n",
       "    <tr style=\"text-align: right;\">\n",
       "      <th></th>\n",
       "      <th>T</th>\n",
       "    </tr>\n",
       "  </thead>\n",
       "  <tbody>\n",
       "    <tr>\n",
       "      <th>0</th>\n",
       "      <td>0.248632</td>\n",
       "    </tr>\n",
       "    <tr>\n",
       "      <th>1</th>\n",
       "      <td>0.242163</td>\n",
       "    </tr>\n",
       "    <tr>\n",
       "      <th>2</th>\n",
       "      <td>0.240504</td>\n",
       "    </tr>\n",
       "    <tr>\n",
       "      <th>3</th>\n",
       "      <td>0.243822</td>\n",
       "    </tr>\n",
       "    <tr>\n",
       "      <th>4</th>\n",
       "      <td>0.244485</td>\n",
       "    </tr>\n",
       "  </tbody>\n",
       "</table>\n",
       "</div>\n",
       "      <button class=\"colab-df-convert\" onclick=\"convertToInteractive('df-64ad5f9b-1245-48af-8014-8a529b0fdcc4')\"\n",
       "              title=\"Convert this dataframe to an interactive table.\"\n",
       "              style=\"display:none;\">\n",
       "        \n",
       "  <svg xmlns=\"http://www.w3.org/2000/svg\" height=\"24px\"viewBox=\"0 0 24 24\"\n",
       "       width=\"24px\">\n",
       "    <path d=\"M0 0h24v24H0V0z\" fill=\"none\"/>\n",
       "    <path d=\"M18.56 5.44l.94 2.06.94-2.06 2.06-.94-2.06-.94-.94-2.06-.94 2.06-2.06.94zm-11 1L8.5 8.5l.94-2.06 2.06-.94-2.06-.94L8.5 2.5l-.94 2.06-2.06.94zm10 10l.94 2.06.94-2.06 2.06-.94-2.06-.94-.94-2.06-.94 2.06-2.06.94z\"/><path d=\"M17.41 7.96l-1.37-1.37c-.4-.4-.92-.59-1.43-.59-.52 0-1.04.2-1.43.59L10.3 9.45l-7.72 7.72c-.78.78-.78 2.05 0 2.83L4 21.41c.39.39.9.59 1.41.59.51 0 1.02-.2 1.41-.59l7.78-7.78 2.81-2.81c.8-.78.8-2.07 0-2.86zM5.41 20L4 18.59l7.72-7.72 1.47 1.35L5.41 20z\"/>\n",
       "  </svg>\n",
       "      </button>\n",
       "      \n",
       "  <style>\n",
       "    .colab-df-container {\n",
       "      display:flex;\n",
       "      flex-wrap:wrap;\n",
       "      gap: 12px;\n",
       "    }\n",
       "\n",
       "    .colab-df-convert {\n",
       "      background-color: #E8F0FE;\n",
       "      border: none;\n",
       "      border-radius: 50%;\n",
       "      cursor: pointer;\n",
       "      display: none;\n",
       "      fill: #1967D2;\n",
       "      height: 32px;\n",
       "      padding: 0 0 0 0;\n",
       "      width: 32px;\n",
       "    }\n",
       "\n",
       "    .colab-df-convert:hover {\n",
       "      background-color: #E2EBFA;\n",
       "      box-shadow: 0px 1px 2px rgba(60, 64, 67, 0.3), 0px 1px 3px 1px rgba(60, 64, 67, 0.15);\n",
       "      fill: #174EA6;\n",
       "    }\n",
       "\n",
       "    [theme=dark] .colab-df-convert {\n",
       "      background-color: #3B4455;\n",
       "      fill: #D2E3FC;\n",
       "    }\n",
       "\n",
       "    [theme=dark] .colab-df-convert:hover {\n",
       "      background-color: #434B5C;\n",
       "      box-shadow: 0px 1px 3px 1px rgba(0, 0, 0, 0.15);\n",
       "      filter: drop-shadow(0px 1px 2px rgba(0, 0, 0, 0.3));\n",
       "      fill: #FFFFFF;\n",
       "    }\n",
       "  </style>\n",
       "\n",
       "      <script>\n",
       "        const buttonEl =\n",
       "          document.querySelector('#df-64ad5f9b-1245-48af-8014-8a529b0fdcc4 button.colab-df-convert');\n",
       "        buttonEl.style.display =\n",
       "          google.colab.kernel.accessAllowed ? 'block' : 'none';\n",
       "\n",
       "        async function convertToInteractive(key) {\n",
       "          const element = document.querySelector('#df-64ad5f9b-1245-48af-8014-8a529b0fdcc4');\n",
       "          const dataTable =\n",
       "            await google.colab.kernel.invokeFunction('convertToInteractive',\n",
       "                                                     [key], {});\n",
       "          if (!dataTable) return;\n",
       "\n",
       "          const docLinkHtml = 'Like what you see? Visit the ' +\n",
       "            '<a target=\"_blank\" href=https://colab.research.google.com/notebooks/data_table.ipynb>data table notebook</a>'\n",
       "            + ' to learn more about interactive tables.';\n",
       "          element.innerHTML = '';\n",
       "          dataTable['output_type'] = 'display_data';\n",
       "          await google.colab.output.renderOutput(dataTable, element);\n",
       "          const docLink = document.createElement('div');\n",
       "          docLink.innerHTML = docLinkHtml;\n",
       "          element.appendChild(docLink);\n",
       "        }\n",
       "      </script>\n",
       "    </div>\n",
       "  </div>\n",
       "  "
      ],
      "text/plain": [
       "          T\n",
       "0  0.248632\n",
       "1  0.242163\n",
       "2  0.240504\n",
       "3  0.243822\n",
       "4  0.244485"
      ]
     },
     "execution_count": 8,
     "metadata": {},
     "output_type": "execute_result"
    }
   ],
   "source": [
    "scaler = MinMaxScaler()\n",
    "\n",
    "# applying the transformation and also changing the name from \"T (degC)\" to \"T\"\n",
    "dataframe = pd.DataFrame(scaler.fit_transform(dataframe), columns = [\"T\"])\n",
    "\n",
    "dataframe.head()"
   ]
  },
  {
   "cell_type": "markdown",
   "metadata": {
    "id": "T9JN41ugxoNB"
   },
   "source": [
    "***convert dataframe to numpy-array***"
   ]
  },
  {
   "cell_type": "code",
   "execution_count": null,
   "metadata": {
    "colab": {
     "base_uri": "https://localhost:8080/"
    },
    "executionInfo": {
     "elapsed": 15409,
     "status": "ok",
     "timestamp": 1677402236430,
     "user": {
      "displayName": "arvin mohammadi",
      "userId": "14054999000878298543"
     },
     "user_tz": -210
    },
    "id": "pohuAY7JxBic",
    "outputId": "698427af-85e3-439d-9de3-f0a23c6b006f"
   },
   "outputs": [
    {
     "name": "stdout",
     "output_type": "stream",
     "text": [
      "(420263, 216)\n",
      "(420263, 72)\n"
     ]
    }
   ],
   "source": [
    "y_list = list(dataframe[\"T\"])\n",
    "\n",
    "# number of future data\n",
    "n_future = 72\n",
    "\n",
    "# number of past data\n",
    "n_past = 3*72\n",
    "\n",
    "# number of all data\n",
    "total_period = 4*72\n",
    "\n",
    "end_index = len(y_list)\n",
    "start_index = end_index - total_period\n",
    "\n",
    "# initialize feature and target arrays\n",
    "X = []\n",
    "y = []\n",
    "\n",
    "while start_index > 0:\n",
    "\n",
    "  X_line = y_list[start_index:start_index+n_past]\n",
    "  y_line = y_list[start_index+n_past:start_index+total_period]\n",
    "\n",
    "  X.append(X_line)\n",
    "  y.append(y_line)\n",
    "\n",
    "  start_index -= 1\n",
    "\n",
    "X = np.array(X)\n",
    "y = np.array(y)\n",
    "\n",
    "print(X.shape)\n",
    "print(y.shape)"
   ]
  },
  {
   "cell_type": "markdown",
   "metadata": {
    "id": "QWWMHvz0zejv"
   },
   "source": [
    "***test/train split***"
   ]
  },
  {
   "cell_type": "code",
   "execution_count": null,
   "metadata": {
    "id": "-EOWosCZxzof"
   },
   "outputs": [],
   "source": [
    "X_train, X_test, y_train, y_test = train_test_split(X, y, test_size=0.10, random_state=42)"
   ]
  },
  {
   "cell_type": "code",
   "execution_count": null,
   "metadata": {
    "colab": {
     "base_uri": "https://localhost:8080/"
    },
    "executionInfo": {
     "elapsed": 14,
     "status": "ok",
     "timestamp": 1677402236431,
     "user": {
      "displayName": "arvin mohammadi",
      "userId": "14054999000878298543"
     },
     "user_tz": -210
    },
    "id": "d4Vyp2vgzkAg",
    "outputId": "de2fabe0-22b8-4654-d746-3cce495d0b18"
   },
   "outputs": [
    {
     "name": "stdout",
     "output_type": "stream",
     "text": [
      "(378236, 216)\n",
      "(378236, 72)\n"
     ]
    }
   ],
   "source": [
    "print(X_train.shape)\n",
    "print(y_train.shape)"
   ]
  },
  {
   "cell_type": "markdown",
   "metadata": {
    "id": "MA6gjTvH4TAS"
   },
   "source": [
    "## Build Model Architecture\n",
    "\n",
    "we define three different models here:\n",
    "1. Simple-RNN\n",
    "2. GRU - 1 Gated\n",
    "3. GRU - 3 Gated"
   ]
  },
  {
   "cell_type": "markdown",
   "metadata": {
    "id": "_TxKEVnW4Vnu"
   },
   "source": [
    "***define constants - input format of RNN = (n_samples, n_timesteps, n_features)***"
   ]
  },
  {
   "cell_type": "code",
   "execution_count": null,
   "metadata": {
    "id": "_599D6BBzomH"
   },
   "outputs": [],
   "source": [
    "# test batch size (make it smaller for better results)\n",
    "batch_size = 2048\n",
    "\n",
    "# number of samples \n",
    "n_samples = X_train.shape[0]\n",
    "\n",
    "# number of time steps \n",
    "n_timesteps = X_train.shape[1]\n",
    "\n",
    "# number of steps \n",
    "n_steps = y_train.shape[1]\n",
    "\n",
    "# number of features \n",
    "n_features = 1\n",
    "\n",
    "# re-shape X_train and X_test to a valid shape for input\n",
    "X_train = X_train.reshape(-1, n_timesteps, n_features)\n",
    "X_test = X_test.reshape(-1, n_timesteps, n_features)"
   ]
  },
  {
   "cell_type": "markdown",
   "metadata": {
    "id": "wW3H2h_m5mAS"
   },
   "source": [
    "***simple-RNN unit structure***"
   ]
  },
  {
   "cell_type": "code",
   "execution_count": null,
   "metadata": {
    "colab": {
     "base_uri": "https://localhost:8080/"
    },
    "executionInfo": {
     "elapsed": 4215,
     "status": "ok",
     "timestamp": 1677402240634,
     "user": {
      "displayName": "arvin mohammadi",
      "userId": "14054999000878298543"
     },
     "user_tz": -210
    },
    "id": "iNg9UU3J4SGC",
    "outputId": "4b89ad03-0379-4e97-e8a5-54cf2c27d616"
   },
   "outputs": [
    {
     "name": "stdout",
     "output_type": "stream",
     "text": [
      "Model: \"sequential\"\n",
      "_________________________________________________________________\n",
      " Layer (type)                Output Shape              Param #   \n",
      "=================================================================\n",
      " simple_rnn (SimpleRNN)      (None, 216, 8)            80        \n",
      "                                                                 \n",
      " simple_rnn_1 (SimpleRNN)    (None, 216, 8)            136       \n",
      "                                                                 \n",
      " simple_rnn_2 (SimpleRNN)    (None, 8)                 136       \n",
      "                                                                 \n",
      " dense (Dense)               (None, 72)                648       \n",
      "                                                                 \n",
      "=================================================================\n",
      "Total params: 1,000\n",
      "Trainable params: 1,000\n",
      "Non-trainable params: 0\n",
      "_________________________________________________________________\n"
     ]
    }
   ],
   "source": [
    "random.seed(420)\n",
    "\n",
    "model_1 = Sequential([\n",
    "    SimpleRNN(8, activation=\"tanh\", input_shape=(n_timesteps, n_features), return_sequences=True),\n",
    "    SimpleRNN(8, activation=\"tanh\", return_sequences=True), \n",
    "    SimpleRNN(8, activation=\"tanh\"), \n",
    "    Dense(y_train.shape[1]), \n",
    "])\n",
    "\n",
    "model_1.summary()"
   ]
  },
  {
   "cell_type": "markdown",
   "metadata": {
    "id": "Ml_QmSUA5uMf"
   },
   "source": [
    "***1 Gated Recurrent Unit Structure***"
   ]
  },
  {
   "cell_type": "code",
   "execution_count": null,
   "metadata": {
    "colab": {
     "base_uri": "https://localhost:8080/"
    },
    "executionInfo": {
     "elapsed": 338,
     "status": "ok",
     "timestamp": 1677402240968,
     "user": {
      "displayName": "arvin mohammadi",
      "userId": "14054999000878298543"
     },
     "user_tz": -210
    },
    "id": "rki2lhWi50iO",
    "outputId": "d0ae2354-f619-4027-f54c-3024411ef80d"
   },
   "outputs": [
    {
     "name": "stdout",
     "output_type": "stream",
     "text": [
      "Model: \"sequential_1\"\n",
      "_________________________________________________________________\n",
      " Layer (type)                Output Shape              Param #   \n",
      "=================================================================\n",
      " gru (GRU)                   (None, 8)                 264       \n",
      "                                                                 \n",
      " dense_1 (Dense)             (None, 72)                648       \n",
      "                                                                 \n",
      "=================================================================\n",
      "Total params: 912\n",
      "Trainable params: 912\n",
      "Non-trainable params: 0\n",
      "_________________________________________________________________\n"
     ]
    }
   ],
   "source": [
    "random.seed(69)\n",
    "from tensorflow.keras.layers import GRU\n",
    "\n",
    "model_2 = Sequential([\n",
    "    GRU(8, activation=\"tanh\", input_shape=(n_timesteps, n_features)), \n",
    "    Dense(y_train.shape[1]), \n",
    "])\n",
    "\n",
    "model_2.summary()"
   ]
  },
  {
   "cell_type": "markdown",
   "metadata": {
    "id": "1dFpfGe451p1"
   },
   "source": [
    "***3 Gated Recurrent Unit Structure***"
   ]
  },
  {
   "cell_type": "code",
   "execution_count": null,
   "metadata": {
    "colab": {
     "base_uri": "https://localhost:8080/"
    },
    "executionInfo": {
     "elapsed": 749,
     "status": "ok",
     "timestamp": 1677402241714,
     "user": {
      "displayName": "arvin mohammadi",
      "userId": "14054999000878298543"
     },
     "user_tz": -210
    },
    "id": "rrEAZjhu553H",
    "outputId": "cd006bb3-b16d-44c9-fb95-98e439ce2a28"
   },
   "outputs": [
    {
     "name": "stdout",
     "output_type": "stream",
     "text": [
      "Model: \"sequential_2\"\n",
      "_________________________________________________________________\n",
      " Layer (type)                Output Shape              Param #   \n",
      "=================================================================\n",
      " gru_1 (GRU)                 (None, 216, 10)           390       \n",
      "                                                                 \n",
      " gru_2 (GRU)                 (None, 216, 10)           660       \n",
      "                                                                 \n",
      " gru_3 (GRU)                 (None, 10)                660       \n",
      "                                                                 \n",
      " dense_2 (Dense)             (None, 72)                792       \n",
      "                                                                 \n",
      "=================================================================\n",
      "Total params: 2,502\n",
      "Trainable params: 2,502\n",
      "Non-trainable params: 0\n",
      "_________________________________________________________________\n"
     ]
    }
   ],
   "source": [
    "random.seed(85)\n",
    "\n",
    "model_3 = Sequential([\n",
    "    GRU(10, activation=\"tanh\", input_shape=(n_timesteps, n_features), return_sequences=True), \n",
    "    GRU(10, activation=\"tanh\", return_sequences=True), \n",
    "    GRU(10, activation=\"tanh\"), \n",
    "    Dense(y_train.shape[1]), \n",
    "])\n",
    "\n",
    "model_3.summary()"
   ]
  },
  {
   "cell_type": "markdown",
   "metadata": {
    "id": "vrDmtePmg_tP"
   },
   "source": [
    "## Compile and Train Model\n",
    "\n",
    "we compile and train the three models we just built"
   ]
  },
  {
   "cell_type": "markdown",
   "metadata": {
    "id": "-9fHYrNtiY43"
   },
   "source": [
    "***compile all three models***"
   ]
  },
  {
   "cell_type": "code",
   "execution_count": null,
   "metadata": {
    "id": "_1aMOSF2SLiX"
   },
   "outputs": [],
   "source": [
    "from tensorflow.keras.optimizers import Adam\n",
    "\n",
    "model_1.compile(loss=\"mean_absolute_error\", optimizer=Adam(learning_rate=0.01), metrics=[\"accuracy\"])\n",
    "model_2.compile(loss=\"mean_absolute_error\", optimizer=Adam(learning_rate=0.1), metrics=[\"accuracy\"])\n",
    "model_3.compile(loss=\"mean_absolute_error\", optimizer=Adam(learning_rate=0.001), metrics=[\"accuracy\"])"
   ]
  },
  {
   "cell_type": "markdown",
   "metadata": {
    "id": "KsUIUNQ4jG0r"
   },
   "source": [
    "***train model 1***"
   ]
  },
  {
   "cell_type": "code",
   "execution_count": null,
   "metadata": {
    "colab": {
     "base_uri": "https://localhost:8080/"
    },
    "executionInfo": {
     "elapsed": 505313,
     "status": "ok",
     "timestamp": 1677403154029,
     "user": {
      "displayName": "arvin mohammadi",
      "userId": "14054999000878298543"
     },
     "user_tz": -210
    },
    "id": "VJQ0UuqUhkyB",
    "outputId": "60a1a121-92b1-4386-8daa-8bb2b923576e"
   },
   "outputs": [
    {
     "name": "stdout",
     "output_type": "stream",
     "text": [
      "Epoch 1/5\n",
      "148/148 [==============================] - 108s 700ms/step - loss: 0.0488 - accuracy: 0.0477 - val_loss: 0.0442 - val_accuracy: 0.0560\n",
      "Epoch 2/5\n",
      "148/148 [==============================] - 93s 631ms/step - loss: 0.0438 - accuracy: 0.0601 - val_loss: 0.0435 - val_accuracy: 0.0395\n",
      "Epoch 3/5\n",
      "148/148 [==============================] - 87s 587ms/step - loss: 0.0435 - accuracy: 0.0576 - val_loss: 0.0436 - val_accuracy: 0.0547\n",
      "Epoch 4/5\n",
      "148/148 [==============================] - 88s 592ms/step - loss: 0.0434 - accuracy: 0.0815 - val_loss: 0.0432 - val_accuracy: 0.0373\n",
      "Epoch 5/5\n",
      "148/148 [==============================] - 85s 574ms/step - loss: 0.0428 - accuracy: 0.0869 - val_loss: 0.0424 - val_accuracy: 0.1195\n"
     ]
    }
   ],
   "source": [
    "history_1 = model_1.fit(X_train, y_train, validation_split=0.2, epochs=5, batch_size=batch_size, shuffle=True)"
   ]
  },
  {
   "cell_type": "markdown",
   "metadata": {
    "id": "8X6Pa-sxjJ37"
   },
   "source": [
    "***train model 2***"
   ]
  },
  {
   "cell_type": "code",
   "execution_count": null,
   "metadata": {
    "colab": {
     "base_uri": "https://localhost:8080/"
    },
    "executionInfo": {
     "elapsed": 16538,
     "status": "ok",
     "timestamp": 1677403170560,
     "user": {
      "displayName": "arvin mohammadi",
      "userId": "14054999000878298543"
     },
     "user_tz": -210
    },
    "id": "qBGF1f8EjLic",
    "outputId": "14583f35-6c5f-4b91-87fd-fe45edffeb71"
   },
   "outputs": [
    {
     "name": "stdout",
     "output_type": "stream",
     "text": [
      "Epoch 1/5\n",
      "148/148 [==============================] - 7s 23ms/step - loss: 0.0599 - accuracy: 0.0577 - val_loss: 0.0470 - val_accuracy: 0.0293\n",
      "Epoch 2/5\n",
      "148/148 [==============================] - 3s 17ms/step - loss: 0.0450 - accuracy: 0.0686 - val_loss: 0.0427 - val_accuracy: 0.1621\n",
      "Epoch 3/5\n",
      "148/148 [==============================] - 2s 15ms/step - loss: 0.0434 - accuracy: 0.0709 - val_loss: 0.0424 - val_accuracy: 0.1041\n",
      "Epoch 4/5\n",
      "148/148 [==============================] - 2s 15ms/step - loss: 0.0429 - accuracy: 0.0931 - val_loss: 0.0426 - val_accuracy: 0.1145\n",
      "Epoch 5/5\n",
      "148/148 [==============================] - 2s 16ms/step - loss: 0.0443 - accuracy: 0.0833 - val_loss: 0.0318 - val_accuracy: 0.1600\n"
     ]
    }
   ],
   "source": [
    "history_2 = model_2.fit(X_train, y_train, validation_split=0.2, epochs=5, batch_size=batch_size, shuffle=True)"
   ]
  },
  {
   "cell_type": "markdown",
   "metadata": {
    "id": "tVxkkj1AjMJM"
   },
   "source": [
    "***train model 3***"
   ]
  },
  {
   "cell_type": "code",
   "execution_count": null,
   "metadata": {
    "colab": {
     "base_uri": "https://localhost:8080/"
    },
    "executionInfo": {
     "elapsed": 99284,
     "status": "ok",
     "timestamp": 1677403269828,
     "user": {
      "displayName": "arvin mohammadi",
      "userId": "14054999000878298543"
     },
     "user_tz": -210
    },
    "id": "R-iCsKRGjNdJ",
    "outputId": "f6b0a895-61fa-4b3b-9aaa-381a108b4d9f"
   },
   "outputs": [
    {
     "name": "stdout",
     "output_type": "stream",
     "text": [
      "Epoch 1/5\n",
      "148/148 [==============================] - 66s 54ms/step - loss: 0.2217 - accuracy: 0.0083 - val_loss: 0.0558 - val_accuracy: 0.0091\n",
      "Epoch 2/5\n",
      "148/148 [==============================] - 7s 46ms/step - loss: 0.0501 - accuracy: 0.0097 - val_loss: 0.0484 - val_accuracy: 0.0107\n",
      "Epoch 3/5\n",
      "148/148 [==============================] - 7s 46ms/step - loss: 0.0477 - accuracy: 0.0140 - val_loss: 0.0473 - val_accuracy: 0.0158\n",
      "Epoch 4/5\n",
      "148/148 [==============================] - 7s 46ms/step - loss: 0.0467 - accuracy: 0.0184 - val_loss: 0.0464 - val_accuracy: 0.0169\n",
      "Epoch 5/5\n",
      "148/148 [==============================] - 7s 46ms/step - loss: 0.0457 - accuracy: 0.0256 - val_loss: 0.0453 - val_accuracy: 0.0219\n"
     ]
    }
   ],
   "source": [
    "history_3 = model_3.fit(X_train, y_train, validation_split=0.2, epochs=5, batch_size=batch_size, shuffle=True)"
   ]
  },
  {
   "cell_type": "markdown",
   "metadata": {
    "id": "kNiDrKUu9sDe"
   },
   "source": [
    "## Evaluate Model Performance "
   ]
  },
  {
   "cell_type": "markdown",
   "metadata": {
    "id": "flqm2CcX-xdR"
   },
   "source": [
    "***plot loss over iterations model-1***"
   ]
  },
  {
   "cell_type": "code",
   "execution_count": null,
   "metadata": {
    "colab": {
     "base_uri": "https://localhost:8080/"
    },
    "executionInfo": {
     "elapsed": 70796,
     "status": "ok",
     "timestamp": 1677403340606,
     "user": {
      "displayName": "arvin mohammadi",
      "userId": "14054999000878298543"
     },
     "user_tz": -210
    },
    "id": "8GF1T0Ze9ntH",
    "outputId": "d4d49168-522a-49c6-e6c7-b82de7c0bfed"
   },
   "outputs": [
    {
     "name": "stdout",
     "output_type": "stream",
     "text": [
      "1314/1314 [==============================] - 70s 53ms/step\n"
     ]
    },
    {
     "data": {
      "image/png": "[encoded data removed]",
      "text/plain": [
       "<Figure size 432x288 with 1 Axes>"
      ]
     },
     "metadata": {
      "needs_background": "light"
     },
     "output_type": "display_data"
    }
   ],
   "source": [
    "predictions_1 = model_1.predict(X_test)\n",
    "\n",
    "plt.plot(history_1.history[\"loss\"])\n",
    "plt.plot(history_1.history[\"val_loss\"])\n",
    "\n",
    "plt.title(\"model loss\")\n",
    "plt.xlabel(\"epoch\")\n",
    "plt.legend([\"train\", \"validation\"], loc=\"upper left\")\n",
    "plt.show()"
   ]
  },
  {
   "cell_type": "markdown",
   "metadata": {
    "id": "9Uu5DAoy-0iF"
   },
   "source": [
    "***r2 score of the 1st model***"
   ]
  },
  {
   "cell_type": "code",
   "execution_count": null,
   "metadata": {
    "colab": {
     "base_uri": "https://localhost:8080/"
    },
    "executionInfo": {
     "elapsed": 7,
     "status": "ok",
     "timestamp": 1677403340606,
     "user": {
      "displayName": "arvin mohammadi",
      "userId": "14054999000878298543"
     },
     "user_tz": -210
    },
    "id": "oEATl_eY-V37",
    "outputId": "da628157-1668-4251-fff4-3e72f2edb4b3"
   },
   "outputs": [
    {
     "name": "stdout",
     "output_type": "stream",
     "text": [
      "0.7089662393844345\n"
     ]
    }
   ],
   "source": [
    "print(r2_score(predictions_1, y_test))"
   ]
  },
  {
   "cell_type": "markdown",
   "metadata": {
    "id": "7lQq-nIi-5Ts"
   },
   "source": [
    "***plot loss over iterations model-2***"
   ]
  },
  {
   "cell_type": "code",
   "execution_count": null,
   "metadata": {
    "colab": {
     "base_uri": "https://localhost:8080/",
     "height": 312
    },
    "executionInfo": {
     "elapsed": 10985,
     "status": "ok",
     "timestamp": 1677403351586,
     "user": {
      "displayName": "arvin mohammadi",
      "userId": "14054999000878298543"
     },
     "user_tz": -210
    },
    "id": "AkMdxz5A-46p",
    "outputId": "5cfe110c-fd10-476a-fd49-55a82d51800f"
   },
   "outputs": [
    {
     "name": "stdout",
     "output_type": "stream",
     "text": [
      "1314/1314 [==============================] - 6s 4ms/step\n"
     ]
    },
    {
     "data": {
      "image/png": "[encoded data removed]",
      "text/plain": [
       "<Figure size 432x288 with 1 Axes>"
      ]
     },
     "metadata": {
      "needs_background": "light"
     },
     "output_type": "display_data"
    }
   ],
   "source": [
    "predictions_2 = model_2.predict(X_test)\n",
    "\n",
    "plt.plot(history_2.history[\"loss\"])\n",
    "plt.plot(history_2.history[\"val_loss\"])\n",
    "\n",
    "plt.title(\"model loss\")\n",
    "plt.xlabel(\"epoch\")\n",
    "plt.legend([\"train\", \"validation\"], loc=\"upper left\")\n",
    "plt.show()"
   ]
  },
  {
   "cell_type": "markdown",
   "metadata": {
    "id": "F0eZGiWP_C0R"
   },
   "source": [
    "***r2 score of the 2nd model***"
   ]
  },
  {
   "cell_type": "code",
   "execution_count": null,
   "metadata": {
    "colab": {
     "base_uri": "https://localhost:8080/"
    },
    "executionInfo": {
     "elapsed": 6,
     "status": "ok",
     "timestamp": 1677403352725,
     "user": {
      "displayName": "arvin mohammadi",
      "userId": "14054999000878298543"
     },
     "user_tz": -210
    },
    "id": "cRy9ehuY_FfT",
    "outputId": "c9ad28d6-cca3-4681-fa73-57409061c4b8"
   },
   "outputs": [
    {
     "name": "stdout",
     "output_type": "stream",
     "text": [
      "0.8830766358846007\n"
     ]
    }
   ],
   "source": [
    "print(r2_score(predictions_2, y_test))"
   ]
  },
  {
   "cell_type": "markdown",
   "metadata": {
    "id": "CxSaloV5_frc"
   },
   "source": [
    "***plot loss over iterations model-3***"
   ]
  },
  {
   "cell_type": "code",
   "execution_count": null,
   "metadata": {
    "colab": {
     "base_uri": "https://localhost:8080/",
     "height": 312
    },
    "executionInfo": {
     "elapsed": 21675,
     "status": "ok",
     "timestamp": 1677403374397,
     "user": {
      "displayName": "arvin mohammadi",
      "userId": "14054999000878298543"
     },
     "user_tz": -210
    },
    "id": "hv4CJkFL_awg",
    "outputId": "2026e2e7-f75e-41aa-c319-ef9a33e63a98"
   },
   "outputs": [
    {
     "name": "stdout",
     "output_type": "stream",
     "text": [
      "1314/1314 [==============================] - 11s 8ms/step\n"
     ]
    },
    {
     "data": {
      "image/png": "[encoded data removed]",
      "text/plain": [
       "<Figure size 432x288 with 1 Axes>"
      ]
     },
     "metadata": {
      "needs_background": "light"
     },
     "output_type": "display_data"
    }
   ],
   "source": [
    "predictions_3 = model_3.predict(X_test)\n",
    "\n",
    "plt.plot(history_3.history[\"loss\"])\n",
    "plt.plot(history_3.history[\"val_loss\"])\n",
    "\n",
    "plt.title(\"model loss\")\n",
    "plt.xlabel(\"epoch\")\n",
    "plt.legend([\"train\", \"validation\"], loc=\"upper left\")\n",
    "plt.show()"
   ]
  },
  {
   "cell_type": "markdown",
   "metadata": {
    "id": "dYXHk0uK_uXN"
   },
   "source": [
    "***r2 score of the 3rd model***"
   ]
  },
  {
   "cell_type": "code",
   "execution_count": null,
   "metadata": {
    "colab": {
     "base_uri": "https://localhost:8080/"
    },
    "executionInfo": {
     "elapsed": 9,
     "status": "ok",
     "timestamp": 1677403374398,
     "user": {
      "displayName": "arvin mohammadi",
      "userId": "14054999000878298543"
     },
     "user_tz": -210
    },
    "id": "7UMgzdfu_q4c",
    "outputId": "0f71c188-2142-41e7-d658-10c81dbd23bb"
   },
   "outputs": [
    {
     "name": "stdout",
     "output_type": "stream",
     "text": [
      "0.6647633305668911\n"
     ]
    }
   ],
   "source": [
    "print(r2_score(predictions_3, y_test))"
   ]
  },
  {
   "cell_type": "code",
   "execution_count": null,
   "metadata": {
    "id": "tt1R24hj_xeN"
   },
   "outputs": [],
   "source": []
  }
 ],
 "metadata": {
  "colab": {
   "authorship_tag": "ABX9TyORl1xeZoZ+rsrMSgZBnivb",
   "provenance": []
  },
  "gpuClass": "standard",
  "kernelspec": {
   "display_name": "Python 3 (ipykernel)",
   "language": "python",
   "name": "python3"
  },
  "language_info": {
   "codemirror_mode": {
    "name": "ipython",
    "version": 3
   },
   "file_extension": ".py",
   "mimetype": "text/x-python",
   "name": "python",
   "nbconvert_exporter": "python",
   "pygments_lexer": "ipython3",
   "version": "3.10.4"
  }
 },
 "nbformat": 4,
 "nbformat_minor": 1
}
